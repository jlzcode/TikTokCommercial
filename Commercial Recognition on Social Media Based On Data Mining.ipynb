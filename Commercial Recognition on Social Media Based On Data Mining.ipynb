{
 "cells": [
  {
   "cell_type": "markdown",
   "metadata": {},
   "source": [
    "## Import Libraries and Data"
   ]
  },
  {
   "cell_type": "code",
   "execution_count": 2,
   "metadata": {},
   "outputs": [],
   "source": [
    "import numpy as np\n",
    "import pandas as pd\n",
    "from matplotlib import pyplot as plt\n",
    "import seaborn as sns\n",
    "%matplotlib inline\n",
    "import warnings\n",
    "warnings.filterwarnings(\"ignore\")\n",
    "data = pd.read_csv(\"commercial_vedio_data.csv\", index_col=0)"
   ]
  },
  {
   "cell_type": "markdown",
   "metadata": {},
   "source": [
    "## Data Analysis"
   ]
  },
  {
   "cell_type": "code",
   "execution_count": 3,
   "metadata": {},
   "outputs": [
    {
     "name": "stdout",
     "output_type": "stream",
     "text": [
      "Label of the data set:Label\n",
      "\n",
      "Features containg in the data set:Index([u'Length', u'Move_E', u'Move_D', u'Frame_E', u'Frame_D', u'Energe_E',\n",
      "       u'Energe_D', u'ZCR_E', u'ZCR_D', u'Centroid_E',\n",
      "       ...\n",
      "       u'882', u'924', u'959', u'1002', u'1016', u'1028', u'1048', u'1112',\n",
      "       u'1119', u'Edge_E'],\n",
      "      dtype='object', length=229)\n",
      "\n",
      "Shape of the data set:(129685, 231)\n",
      "\n"
     ]
    }
   ],
   "source": [
    "# Rename\n",
    "data.rename(columns={'1':'Length', '2':'Move_E', '3':'Move_D', '4':'Frame_E', '5':'Frame_D', '6':'Energe_E', '7':'Energe_D', '8':'ZCR_E', '9':'ZCR_D', '10':'Centroid_E', '11':'Centroid_D', '12':'Rolloff_E', '13':'Rolloff_D', '14':'Flux_E', '15':'Flux_D', '16':'BasFreq_E', '17':'BasFreq_D', '4124':'Edge_E', '4125':'Edge_D', 'labels':'Label'}, inplace=True)\n",
    "\n",
    "# Define feature name and label name\n",
    "col_name = data.columns[:-2]\n",
    "label_name = data.columns[-1]\n",
    "\n",
    "print ('Label of the data set:{}\\n'.format(label_name))\n",
    "print ('Features containg in the data set:{}\\n'.format(col_name))\n",
    "print ('Shape of the data set:{}\\n'.format(data.shape))"
   ]
  },
  {
   "cell_type": "code",
   "execution_count": 7,
   "metadata": {},
   "outputs": [
    {
     "name": "stdout",
     "output_type": "stream",
     "text": [
      "   Length    Move_E    Move_D    Frame_E   Frame_D  Energe_E  Energe_D  \\\n",
      "0     123  1.316440  1.516003   5.605905  5.346760  0.013233  0.010729   \n",
      "1     124  0.966079  0.546420   4.046537  3.190973  0.008338  0.011490   \n",
      "2     109  2.035407  0.571643   9.551406  5.803685  0.015189  0.014294   \n",
      "3      86  3.206008  0.786326  10.092709  2.693058  0.013962  0.011039   \n",
      "4      76  3.135861  0.896346  10.348035  2.651010  0.020914  0.012061   \n",
      "\n",
      "      ZCR_E     ZCR_D   Centroid_E  ...       959      1002      1016  1028  \\\n",
      "0  0.091743  0.050768  3808.067871  ...  0.036017  0.006356  0.008475   NaN   \n",
      "1  0.075504  0.065841  3466.266113  ...  0.117647  0.006303       NaN   NaN   \n",
      "2  0.094209  0.044991  3798.196533  ...  0.062500  0.004808       NaN   NaN   \n",
      "3  0.092042  0.043756  3761.712402  ...  0.046296  0.012346       NaN   NaN   \n",
      "4  0.108018  0.052617  3784.488037  ...       NaN  0.003521       NaN   NaN   \n",
      "\n",
      "       1048      1112  1119    Edge_E    Edge_D  Label  \n",
      "0  0.002119       NaN   NaN  0.422334  0.663918      1  \n",
      "1  0.008403       NaN   NaN  0.332664  0.766184      1  \n",
      "2  0.009615       NaN   NaN  0.346674  0.225022      1  \n",
      "3  0.012346  0.003086   NaN  0.993323  0.840083      1  \n",
      "4  0.045775  0.007042   NaN  0.341520  0.710470      1  \n",
      "\n",
      "[5 rows x 231 columns]\n"
     ]
    },
    {
     "data": {
      "text/plain": [
       "<matplotlib.axes._subplots.AxesSubplot at 0x1da13eb8>"
      ]
     },
     "execution_count": 7,
     "metadata": {},
     "output_type": "execute_result"
    },
    {
     "data": {
      "image/png": "[encoded data removed]",
      "text/plain": [
       "<Figure size 432x288 with 1 Axes>"
      ]
     },
     "metadata": {
      "needs_background": "light"
     },
     "output_type": "display_data"
    }
   ],
   "source": [
    "print(data.head())\n",
    "sns.distplot(data['Label'], kde=False)"
   ]
  },
  {
   "cell_type": "code",
   "execution_count": 8,
   "metadata": {},
   "outputs": [
    {
     "data": {
      "text/html": [
       "<div>\n",
       "<style scoped>\n",
       "    .dataframe tbody tr th:only-of-type {\n",
       "        vertical-align: middle;\n",
       "    }\n",
       "\n",
       "    .dataframe tbody tr th {\n",
       "        vertical-align: top;\n",
       "    }\n",
       "\n",
       "    .dataframe thead th {\n",
       "        text-align: right;\n",
       "    }\n",
       "</style>\n",
       "<table border=\"1\" class=\"dataframe\">\n",
       "  <thead>\n",
       "    <tr style=\"text-align: right;\">\n",
       "      <th></th>\n",
       "      <th>Length</th>\n",
       "      <th>Move_E</th>\n",
       "      <th>Move_D</th>\n",
       "      <th>Frame_E</th>\n",
       "      <th>Frame_D</th>\n",
       "      <th>Energe_E</th>\n",
       "      <th>Energe_D</th>\n",
       "      <th>ZCR_E</th>\n",
       "      <th>ZCR_D</th>\n",
       "      <th>Centroid_E</th>\n",
       "      <th>...</th>\n",
       "      <th>959</th>\n",
       "      <th>1002</th>\n",
       "      <th>1016</th>\n",
       "      <th>1028</th>\n",
       "      <th>1048</th>\n",
       "      <th>1112</th>\n",
       "      <th>1119</th>\n",
       "      <th>Edge_E</th>\n",
       "      <th>Edge_D</th>\n",
       "      <th>Label</th>\n",
       "    </tr>\n",
       "  </thead>\n",
       "  <tbody>\n",
       "    <tr>\n",
       "      <th>count</th>\n",
       "      <td>129685.000000</td>\n",
       "      <td>129685.000000</td>\n",
       "      <td>129685.000000</td>\n",
       "      <td>129685.000000</td>\n",
       "      <td>129685.000000</td>\n",
       "      <td>129685.000000</td>\n",
       "      <td>129685.000000</td>\n",
       "      <td>129685.000000</td>\n",
       "      <td>129685.000000</td>\n",
       "      <td>129685.000000</td>\n",
       "      <td>...</td>\n",
       "      <td>62719.000000</td>\n",
       "      <td>53351.000000</td>\n",
       "      <td>41920.000000</td>\n",
       "      <td>1860.000000</td>\n",
       "      <td>55528.000000</td>\n",
       "      <td>13108.000000</td>\n",
       "      <td>217.000000</td>\n",
       "      <td>129685.000000</td>\n",
       "      <td>129685.000000</td>\n",
       "      <td>129685.000000</td>\n",
       "    </tr>\n",
       "    <tr>\n",
       "      <th>mean</th>\n",
       "      <td>106.400000</td>\n",
       "      <td>2.587003</td>\n",
       "      <td>1.601049</td>\n",
       "      <td>11.918077</td>\n",
       "      <td>8.264462</td>\n",
       "      <td>0.015218</td>\n",
       "      <td>0.009762</td>\n",
       "      <td>0.103230</td>\n",
       "      <td>0.056772</td>\n",
       "      <td>3481.604677</td>\n",
       "      <td>...</td>\n",
       "      <td>0.044993</td>\n",
       "      <td>0.040969</td>\n",
       "      <td>0.055489</td>\n",
       "      <td>0.003688</td>\n",
       "      <td>0.035440</td>\n",
       "      <td>0.006209</td>\n",
       "      <td>0.036149</td>\n",
       "      <td>0.500648</td>\n",
       "      <td>0.500378</td>\n",
       "      <td>0.268165</td>\n",
       "    </tr>\n",
       "    <tr>\n",
       "      <th>std</th>\n",
       "      <td>264.814882</td>\n",
       "      <td>2.179930</td>\n",
       "      <td>1.374998</td>\n",
       "      <td>9.068333</td>\n",
       "      <td>6.847135</td>\n",
       "      <td>0.005434</td>\n",
       "      <td>0.003281</td>\n",
       "      <td>0.037289</td>\n",
       "      <td>0.021509</td>\n",
       "      <td>669.086147</td>\n",
       "      <td>...</td>\n",
       "      <td>0.056405</td>\n",
       "      <td>0.049836</td>\n",
       "      <td>0.069591</td>\n",
       "      <td>0.004812</td>\n",
       "      <td>0.043293</td>\n",
       "      <td>0.012654</td>\n",
       "      <td>0.075509</td>\n",
       "      <td>0.288909</td>\n",
       "      <td>0.288068</td>\n",
       "      <td>0.963377</td>\n",
       "    </tr>\n",
       "    <tr>\n",
       "      <th>min</th>\n",
       "      <td>25.000000</td>\n",
       "      <td>0.000000</td>\n",
       "      <td>0.000000</td>\n",
       "      <td>0.000000</td>\n",
       "      <td>0.000000</td>\n",
       "      <td>0.000000</td>\n",
       "      <td>0.000000</td>\n",
       "      <td>0.000000</td>\n",
       "      <td>0.000000</td>\n",
       "      <td>0.000000</td>\n",
       "      <td>...</td>\n",
       "      <td>0.000059</td>\n",
       "      <td>0.000059</td>\n",
       "      <td>0.000073</td>\n",
       "      <td>0.000014</td>\n",
       "      <td>0.000007</td>\n",
       "      <td>0.000047</td>\n",
       "      <td>0.000271</td>\n",
       "      <td>0.000032</td>\n",
       "      <td>0.000003</td>\n",
       "      <td>-1.000000</td>\n",
       "    </tr>\n",
       "    <tr>\n",
       "      <th>25%</th>\n",
       "      <td>30.000000</td>\n",
       "      <td>0.947497</td>\n",
       "      <td>0.674715</td>\n",
       "      <td>5.380625</td>\n",
       "      <td>3.244237</td>\n",
       "      <td>0.012589</td>\n",
       "      <td>0.008073</td>\n",
       "      <td>0.083190</td>\n",
       "      <td>0.045150</td>\n",
       "      <td>3390.920654</td>\n",
       "      <td>...</td>\n",
       "      <td>0.011161</td>\n",
       "      <td>0.008621</td>\n",
       "      <td>0.009770</td>\n",
       "      <td>0.000836</td>\n",
       "      <td>0.009804</td>\n",
       "      <td>0.001208</td>\n",
       "      <td>0.004464</td>\n",
       "      <td>0.250215</td>\n",
       "      <td>0.251995</td>\n",
       "      <td>-1.000000</td>\n",
       "    </tr>\n",
       "    <tr>\n",
       "      <th>50%</th>\n",
       "      <td>49.000000</td>\n",
       "      <td>1.970185</td>\n",
       "      <td>1.343323</td>\n",
       "      <td>9.476908</td>\n",
       "      <td>6.584897</td>\n",
       "      <td>0.015709</td>\n",
       "      <td>0.010057</td>\n",
       "      <td>0.102859</td>\n",
       "      <td>0.054889</td>\n",
       "      <td>3608.322998</td>\n",
       "      <td>...</td>\n",
       "      <td>0.025000</td>\n",
       "      <td>0.023585</td>\n",
       "      <td>0.028226</td>\n",
       "      <td>0.001988</td>\n",
       "      <td>0.022727</td>\n",
       "      <td>0.002687</td>\n",
       "      <td>0.012500</td>\n",
       "      <td>0.501763</td>\n",
       "      <td>0.499753</td>\n",
       "      <td>1.000000</td>\n",
       "    </tr>\n",
       "    <tr>\n",
       "      <th>75%</th>\n",
       "      <td>96.000000</td>\n",
       "      <td>3.710244</td>\n",
       "      <td>2.163196</td>\n",
       "      <td>16.568928</td>\n",
       "      <td>11.572393</td>\n",
       "      <td>0.018552</td>\n",
       "      <td>0.012005</td>\n",
       "      <td>0.123875</td>\n",
       "      <td>0.066628</td>\n",
       "      <td>3774.575684</td>\n",
       "      <td>...</td>\n",
       "      <td>0.057143</td>\n",
       "      <td>0.056830</td>\n",
       "      <td>0.076539</td>\n",
       "      <td>0.004556</td>\n",
       "      <td>0.045455</td>\n",
       "      <td>0.006410</td>\n",
       "      <td>0.037500</td>\n",
       "      <td>0.751095</td>\n",
       "      <td>0.749926</td>\n",
       "      <td>1.000000</td>\n",
       "    </tr>\n",
       "    <tr>\n",
       "      <th>max</th>\n",
       "      <td>33871.000000</td>\n",
       "      <td>21.679216</td>\n",
       "      <td>37.363274</td>\n",
       "      <td>67.285736</td>\n",
       "      <td>63.396584</td>\n",
       "      <td>0.036905</td>\n",
       "      <td>0.021416</td>\n",
       "      <td>0.394551</td>\n",
       "      <td>0.246353</td>\n",
       "      <td>4005.922607</td>\n",
       "      <td>...</td>\n",
       "      <td>0.812500</td>\n",
       "      <td>0.637500</td>\n",
       "      <td>1.012500</td>\n",
       "      <td>0.050000</td>\n",
       "      <td>0.840909</td>\n",
       "      <td>0.223214</td>\n",
       "      <td>0.512500</td>\n",
       "      <td>0.999973</td>\n",
       "      <td>0.999997</td>\n",
       "      <td>1.000000</td>\n",
       "    </tr>\n",
       "  </tbody>\n",
       "</table>\n",
       "<p>8 rows × 231 columns</p>\n",
       "</div>"
      ],
      "text/plain": [
       "              Length         Move_E         Move_D        Frame_E  \\\n",
       "count  129685.000000  129685.000000  129685.000000  129685.000000   \n",
       "mean      106.400000       2.587003       1.601049      11.918077   \n",
       "std       264.814882       2.179930       1.374998       9.068333   \n",
       "min        25.000000       0.000000       0.000000       0.000000   \n",
       "25%        30.000000       0.947497       0.674715       5.380625   \n",
       "50%        49.000000       1.970185       1.343323       9.476908   \n",
       "75%        96.000000       3.710244       2.163196      16.568928   \n",
       "max     33871.000000      21.679216      37.363274      67.285736   \n",
       "\n",
       "             Frame_D       Energe_E       Energe_D          ZCR_E  \\\n",
       "count  129685.000000  129685.000000  129685.000000  129685.000000   \n",
       "mean        8.264462       0.015218       0.009762       0.103230   \n",
       "std         6.847135       0.005434       0.003281       0.037289   \n",
       "min         0.000000       0.000000       0.000000       0.000000   \n",
       "25%         3.244237       0.012589       0.008073       0.083190   \n",
       "50%         6.584897       0.015709       0.010057       0.102859   \n",
       "75%        11.572393       0.018552       0.012005       0.123875   \n",
       "max        63.396584       0.036905       0.021416       0.394551   \n",
       "\n",
       "               ZCR_D     Centroid_E  ...           959          1002  \\\n",
       "count  129685.000000  129685.000000  ...  62719.000000  53351.000000   \n",
       "mean        0.056772    3481.604677  ...      0.044993      0.040969   \n",
       "std         0.021509     669.086147  ...      0.056405      0.049836   \n",
       "min         0.000000       0.000000  ...      0.000059      0.000059   \n",
       "25%         0.045150    3390.920654  ...      0.011161      0.008621   \n",
       "50%         0.054889    3608.322998  ...      0.025000      0.023585   \n",
       "75%         0.066628    3774.575684  ...      0.057143      0.056830   \n",
       "max         0.246353    4005.922607  ...      0.812500      0.637500   \n",
       "\n",
       "               1016         1028          1048          1112        1119  \\\n",
       "count  41920.000000  1860.000000  55528.000000  13108.000000  217.000000   \n",
       "mean       0.055489     0.003688      0.035440      0.006209    0.036149   \n",
       "std        0.069591     0.004812      0.043293      0.012654    0.075509   \n",
       "min        0.000073     0.000014      0.000007      0.000047    0.000271   \n",
       "25%        0.009770     0.000836      0.009804      0.001208    0.004464   \n",
       "50%        0.028226     0.001988      0.022727      0.002687    0.012500   \n",
       "75%        0.076539     0.004556      0.045455      0.006410    0.037500   \n",
       "max        1.012500     0.050000      0.840909      0.223214    0.512500   \n",
       "\n",
       "              Edge_E         Edge_D          Label  \n",
       "count  129685.000000  129685.000000  129685.000000  \n",
       "mean        0.500648       0.500378       0.268165  \n",
       "std         0.288909       0.288068       0.963377  \n",
       "min         0.000032       0.000003      -1.000000  \n",
       "25%         0.250215       0.251995      -1.000000  \n",
       "50%         0.501763       0.499753       1.000000  \n",
       "75%         0.751095       0.749926       1.000000  \n",
       "max         0.999973       0.999997       1.000000  \n",
       "\n",
       "[8 rows x 231 columns]"
      ]
     },
     "execution_count": 8,
     "metadata": {},
     "output_type": "execute_result"
    }
   ],
   "source": [
    "data.describe()"
   ]
  },
  {
   "cell_type": "code",
   "execution_count": 9,
   "metadata": {},
   "outputs": [
    {
     "data": {
      "image/png": "[encoded data removed]",
      "text/plain": [
       "<Figure size 432x288 with 2 Axes>"
      ]
     },
     "metadata": {
      "needs_background": "light"
     },
     "output_type": "display_data"
    },
    {
     "data": {
      "text/plain": [
       "<seaborn.axisgrid.FacetGrid at 0x20c32f60>"
      ]
     },
     "execution_count": 9,
     "metadata": {},
     "output_type": "execute_result"
    },
    {
     "data": {
      "image/png": "[encoded data removed]",
      "text/plain": [
       "<Figure size 478x216 with 1 Axes>"
      ]
     },
     "metadata": {
      "needs_background": "light"
     },
     "output_type": "display_data"
    }
   ],
   "source": [
    "data.drop(data[data['Length'] > 10000].index.tolist(), inplace=True)\n",
    "\n",
    "fig, axes = plt.subplots(1, 2)\n",
    "sns.barplot(x='Label', y='Length', data=data, ax=axes[0])\n",
    "sns.stripplot(x='Label', y='Length', data=data, ax=axes[1], jitter=True)\n",
    "plt.show()\n",
    "\n",
    "facet = sns.FacetGrid(data[['Length', 'Label']], hue='Label', aspect=2)\n",
    "facet.map(sns.kdeplot, \"Length\", shade=True)\n",
    "facet.set(xlim=(0, 500))\n",
    "facet.add_legend()\n",
    "facet.set_axis_labels(\"Length\", \"Density\")"
   ]
  },
  {
   "cell_type": "markdown",
   "metadata": {},
   "source": [
    "## Data Cleaning"
   ]
  },
  {
   "cell_type": "code",
   "execution_count": 10,
   "metadata": {
    "scrolled": true
   },
   "outputs": [
    {
     "data": {
      "text/plain": [
       "Length        False\n",
       "Move_E        False\n",
       "Move_D        False\n",
       "Frame_E       False\n",
       "Frame_D       False\n",
       "Energe_E      False\n",
       "Energe_D      False\n",
       "ZCR_E         False\n",
       "ZCR_D         False\n",
       "Centroid_E    False\n",
       "Centroid_D    False\n",
       "Rolloff_E     False\n",
       "Rolloff_D     False\n",
       "Flux_E        False\n",
       "Flux_D        False\n",
       "BasFreq_E     False\n",
       "BasFreq_D     False\n",
       "18             True\n",
       "19             True\n",
       "20             True\n",
       "21             True\n",
       "22             True\n",
       "23             True\n",
       "24             True\n",
       "25             True\n",
       "26             True\n",
       "27             True\n",
       "28             True\n",
       "29             True\n",
       "30             True\n",
       "              ...  \n",
       "623            True\n",
       "627            True\n",
       "634            True\n",
       "651            True\n",
       "689            True\n",
       "694            True\n",
       "709            True\n",
       "726            True\n",
       "762            True\n",
       "767            True\n",
       "779            True\n",
       "785            True\n",
       "792            True\n",
       "816            True\n",
       "840            True\n",
       "852            True\n",
       "871            True\n",
       "877            True\n",
       "882            True\n",
       "924            True\n",
       "959            True\n",
       "1002           True\n",
       "1016           True\n",
       "1028           True\n",
       "1048           True\n",
       "1112           True\n",
       "1119           True\n",
       "Edge_E        False\n",
       "Edge_D        False\n",
       "Label         False\n",
       "Length: 231, dtype: bool"
      ]
     },
     "execution_count": 10,
     "metadata": {},
     "output_type": "execute_result"
    }
   ],
   "source": [
    "#  View attributes with missing values\n",
    "data.isnull().any()"
   ]
  },
  {
   "cell_type": "code",
   "execution_count": 11,
   "metadata": {},
   "outputs": [],
   "source": [
    "# Fill it with mean value\n",
    "data = data.fillna(data.mean())"
   ]
  },
  {
   "cell_type": "code",
   "execution_count": 12,
   "metadata": {},
   "outputs": [
    {
     "data": {
      "text/plain": [
       "(111615, 231)"
      ]
     },
     "execution_count": 12,
     "metadata": {},
     "output_type": "execute_result"
    }
   ],
   "source": [
    "# remove deplicated values\n",
    "data.drop_duplicates(inplace=True)\n",
    "data.shape"
   ]
  },
  {
   "cell_type": "code",
   "execution_count": 13,
   "metadata": {},
   "outputs": [
    {
     "data": {
      "text/plain": [
       "<matplotlib.axes._subplots.AxesSubplot at 0x1a83cfd0>"
      ]
     },
     "execution_count": 13,
     "metadata": {},
     "output_type": "execute_result"
    },
    {
     "data": {
      "image/png": "[encoded data removed]",
      "text/plain": [
       "<Figure size 432x288 with 1 Axes>"
      ]
     },
     "metadata": {
      "needs_background": "light"
     },
     "output_type": "display_data"
    }
   ],
   "source": [
    "# Label -1 -> 0\n",
    "data['Label'] = data['Label'].apply(lambda x:0 if x == -1 else x)\n",
    "data['Label'].hist()"
   ]
  },
  {
   "cell_type": "markdown",
   "metadata": {},
   "source": [
    "## Feature Engineering"
   ]
  },
  {
   "cell_type": "code",
   "execution_count": 15,
   "metadata": {},
   "outputs": [
    {
     "data": {
      "text/plain": [
       "(83711, 230)"
      ]
     },
     "execution_count": 15,
     "metadata": {},
     "output_type": "execute_result"
    }
   ],
   "source": [
    "# Split data items and labels\n",
    "X = data.drop(['Label'], axis=1)\n",
    "Y = data['Label']\n",
    "\n",
    "# Split the dataset into training set and testing set\n",
    "from sklearn.model_selection import train_test_split\n",
    "xtrain, xtest, ytrain, ytest = train_test_split(X, Y, train_size=0.75)\n",
    "\n",
    "xtrain.shape"
   ]
  },
  {
   "cell_type": "markdown",
   "metadata": {},
   "source": [
    "### Feature Selection with Random Forest"
   ]
  },
  {
   "cell_type": "code",
   "execution_count": 17,
   "metadata": {},
   "outputs": [
    {
     "data": {
      "text/plain": [
       "RandomForestClassifier(bootstrap=True, class_weight=None, criterion='gini',\n",
       "            max_depth=None, max_features='auto', max_leaf_nodes=None,\n",
       "            min_impurity_decrease=0.0, min_impurity_split=None,\n",
       "            min_samples_leaf=1, min_samples_split=2,\n",
       "            min_weight_fraction_leaf=0.0, n_estimators=10, n_jobs=None,\n",
       "            oob_score=False, random_state=None, verbose=0,\n",
       "            warm_start=False)"
      ]
     },
     "execution_count": 17,
     "metadata": {},
     "output_type": "execute_result"
    }
   ],
   "source": [
    "from sklearn.ensemble import RandomForestClassifier\n",
    "rfcModel = RandomForestClassifier()\n",
    "rfcModel.fit(xtrain, ytrain)"
   ]
  },
  {
   "cell_type": "code",
   "execution_count": 18,
   "metadata": {},
   "outputs": [],
   "source": [
    "# Ranking features according to importance\n",
    "N_most_important = 25\n",
    "\n",
    "imp = np.argsort(rfcModel.feature_importances_)[::-1]\n",
    "imp_slct = imp[:N_most_important]\n",
    "\n",
    "FeaturesImportances = zip(col_name, map(lambda x:round(x,5), rfcModel.feature_importances_))\n",
    "FeatureRank = pd.DataFrame(columns=['Feature', 'Imp'], data=sorted(FeaturesImportances, key=lambda x:x[1], reverse=True)[:N_most_important])"
   ]
  },
  {
   "cell_type": "code",
   "execution_count": 19,
   "metadata": {},
   "outputs": [],
   "source": [
    "# Select features again\n",
    "xtrain_slct = xtrain.iloc[:,imp_slct]\n",
    "xtest_slct  = xtest.iloc[:,imp_slct]"
   ]
  },
  {
   "cell_type": "code",
   "execution_count": 20,
   "metadata": {},
   "outputs": [
    {
     "data": {
      "text/plain": [
       "[<matplotlib.lines.Line2D at 0x10ead518>]"
      ]
     },
     "execution_count": 20,
     "metadata": {},
     "output_type": "execute_result"
    },
    {
     "data": {
      "image/png": "[encoded data removed]",
      "text/plain": [
       "<Figure size 432x288 with 2 Axes>"
      ]
     },
     "metadata": {
      "needs_background": "light"
     },
     "output_type": "display_data"
    }
   ],
   "source": [
    "# Ranking the feature\n",
    "ax1 = fig.add_subplot(111)\n",
    "ax1 = sns.barplot(x='Feature', y='Imp', data=FeatureRank)\n",
    "ax1.set_xticklabels(ax1.get_xticklabels(), rotation=90)\n",
    "\n",
    "SumImp = FeatureRank\n",
    "for i in SumImp.index:\n",
    "    if (i==0):\n",
    "        SumImp['Imp'][i] = FeatureRank['Imp'][i]\n",
    "    else:\n",
    "        SumImp['Imp'][i] = SumImp['Imp'][i-1] + FeatureRank['Imp'][i]\n",
    "ax2 = ax1.twinx()\n",
    "plt.step(x=SumImp['Feature'], y=SumImp['Imp'])"
   ]
  },
  {
   "cell_type": "markdown",
   "metadata": {},
   "source": [
    "### Feature Generation with PCA"
   ]
  },
  {
   "cell_type": "code",
   "execution_count": 21,
   "metadata": {},
   "outputs": [
    {
     "data": {
      "text/plain": [
       "array([6.48988006e-01, 1.89188213e-01, 1.28934485e-01, 1.90055026e-02,\n",
       "       7.78427413e-03, 5.30784073e-03, 6.86011401e-04, 7.18828364e-05,\n",
       "       2.33243955e-05, 6.03913107e-06, 3.58457718e-06, 6.02209475e-07,\n",
       "       9.57509976e-08, 2.05197263e-08, 2.03521884e-08, 1.99708759e-08,\n",
       "       1.24387321e-08, 7.25101289e-09, 5.62296429e-09, 5.35366393e-09,\n",
       "       4.45472422e-09, 3.61175656e-09, 3.11478921e-09, 2.95338556e-09,\n",
       "       2.54363385e-09])"
      ]
     },
     "execution_count": 21,
     "metadata": {},
     "output_type": "execute_result"
    }
   ],
   "source": [
    "from sklearn.decomposition import PCA\n",
    "pca = PCA(n_components=N_most_important)\n",
    "pca.fit(xtrain)\n",
    "pca.explained_variance_ratio_"
   ]
  },
  {
   "cell_type": "code",
   "execution_count": 22,
   "metadata": {},
   "outputs": [],
   "source": [
    "# Use new feature generated by PCA\n",
    "pca1 = PCA(6)\n",
    "pc = pd.DataFrame(pca1.fit_transform(xtrain))\n",
    "pc.index = xtrain.index\n",
    "xtrain_pca = xtrain.join(pc)"
   ]
  },
  {
   "cell_type": "code",
   "execution_count": 23,
   "metadata": {},
   "outputs": [],
   "source": [
    "pc = pd.DataFrame(pca1.fit_transform(xtest))\n",
    "pd.index = xtrain.index\n",
    "xtest_pca = xtest.join(pc)"
   ]
  },
  {
   "cell_type": "markdown",
   "metadata": {},
   "source": [
    "### Feature Binning with Decision Tree"
   ]
  },
  {
   "cell_type": "code",
   "execution_count": 25,
   "metadata": {},
   "outputs": [],
   "source": [
    "#  Feature binning in training set\n",
    "def cut_bin(df,label,max_depth,p):\n",
    "    df_bin = df[[label]]\n",
    "    df_feature = df.drop([label],axis=1)\n",
    "    dict_bin = {}\n",
    "    for col in df_feature.columns:\n",
    "        get_model = DecisionTreeClassifier(max_depth=max_depth,min_samples_leaf=int(p*len(df)))\n",
    "        get_cut_point = get_model.fit(df[col].values.reshape(-1,1),df[label].values.reshape(-1,1))\n",
    "        cut_point = get_cut_point.tree_.threshold[get_cut_point.tree_.threshold!=-2]\n",
    "        \n",
    "        N_split = np.zeros_like(df[col])\n",
    "        inter_range = []\n",
    "        if len(cut_point)==1:\n",
    "            N_split[np.array(df[col]<cut_point[0])]=1\n",
    "            N_split[np.array(df[col]>=cut_point[0])]=2\n",
    "            inter_range=[[1,-100000000,cut_point[0]],[2,cut_point[0],100000000]]\n",
    "        elif len(cut_point)>1:\n",
    "            cut_point.sort()\n",
    "            N_split[np.array(df[col]<cut_point[0])]=1\n",
    "            inter_range=[[1,-100000000,cut_point[0]]]\n",
    "            for i in range(len(cut_point)-1):\n",
    "                N_split[np.array((df[col]>=cut_point[i]) & (df[col]<cut_point[i+1]))]=i+2\n",
    "                inter_range=inter_range+[[i+2,cut_point[i],cut_point[i+1]]]\n",
    "            N_split[np.array(df[col]>=cut_point[len(cut_point)-1])]=len(cut_point)+1\n",
    "            inter_range=inter_range+[[len(cut_point)+1,cut_point[len(cut_point)-1],100000000]]\n",
    "        else:\n",
    "            N_split=1\n",
    "            inter_range=np.array([1,-100000000,100000000]).reshape(1,-1)\n",
    "        df_bin[col] = N_split\n",
    "        inter_df = pd.DataFrame(inter_range)\n",
    "        inter_df.columns=['bin','lower','upper']\n",
    "        crosstable = pd.crosstab(df_bin[col],df_bin[label])\n",
    "        crosstable.columns = ['notCommercial','Commercial']\n",
    "        crosstable['all'] = crosstable['notCommercial']+crosstable['Commercial']\n",
    "        crosstable['percent'] = crosstable['all']/sum(crosstable['all'])\n",
    "        crosstable['c_rate'] = crosstable['Commercial']/crosstable['all']\n",
    "        inter_df = pd.merge(inter_df, crosstable, left_on='bin', right_index=True)\n",
    "        dict_bin[col] = inter_df\n",
    "    return df_bin, dict_bin\n",
    "\n",
    "#  cut_bin对训练集进行分箱\n",
    "def cut_bin(df,label,max_depth,p):\n",
    "    df_bin = df[[label]]\n",
    "    df_feature = df.drop([label],axis=1)\n",
    "    dict_bin = {}\n",
    "    for col in df_feature.columns:\n",
    "        get_model = DecisionTreeClassifier(max_depth=max_depth,min_samples_leaf=int(p*len(df)))\n",
    "        get_cut_point = get_model.fit(df[col].values.reshape(-1,1),df[label].values.reshape(-1,1))\n",
    "        cut_point = get_cut_point.tree_.threshold[get_cut_point.tree_.threshold!=-2]\n",
    "        \n",
    "        N_split = np.zeros_like(df[col])\n",
    "        inter_range = []\n",
    "        if len(cut_point)==1:\n",
    "            N_split[np.array(df[col]<cut_point[0])]=1\n",
    "            N_split[np.array(df[col]>=cut_point[0])]=2\n",
    "            inter_range=[[1,-100000000,cut_point[0]],[2,cut_point[0],100000000]]\n",
    "        elif len(cut_point)>1:\n",
    "            cut_point.sort()\n",
    "            N_split[np.array(df[col]<cut_point[0])]=1\n",
    "            inter_range=[[1,-100000000,cut_point[0]]]\n",
    "            for i in range(len(cut_point)-1):\n",
    "                N_split[np.array((df[col]>=cut_point[i]) & (df[col]<cut_point[i+1]))]=i+2\n",
    "                inter_range=inter_range+[[i+2,cut_point[i],cut_point[i+1]]]\n",
    "            N_split[np.array(df[col]>=cut_point[len(cut_point)-1])]=len(cut_point)+1\n",
    "            inter_range=inter_range+[[len(cut_point)+1,cut_point[len(cut_point)-1],100000000]]\n",
    "        else:\n",
    "            N_split=1\n",
    "            inter_range=np.array([1,-100000000,100000000]).reshape(1,-1)\n",
    "        df_bin[col] = N_split\n",
    "        inter_df = pd.DataFrame(inter_range)\n",
    "        inter_df.columns=['bin','lower','upper']\n",
    "        crosstable = pd.crosstab(df_bin[col],df_bin[label])\n",
    "        crosstable.columns = ['notCommercial','Commercial']\n",
    "        crosstable['all'] = crosstable['notCommercial']+crosstable['Commercial']\n",
    "        crosstable['percent'] = crosstable['all']/sum(crosstable['all'])\n",
    "        crosstable['c_rate'] = crosstable['Commercial']/crosstable['all']\n",
    "        inter_df = pd.merge(inter_df, crosstable, left_on='bin', right_index=True)\n",
    "        dict_bin[col] = inter_df\n",
    "    return df_bin, dict_bin\n",
    "\n",
    "# Feature binning in testing set\n",
    "def cut_test_bin(df, label, train_dict_bin):\n",
    "    df_bin = df[[label]]\n",
    "    df_feature = df.drop([label],axis=1)\n",
    "    dict_bin = {}\n",
    "    for col in df_feature.columns:\n",
    "        train_bin = train_dict_bin[col]\n",
    "        splited = pd.Series([np.nan]*len(df[col]))\n",
    "        for i in range(len(train_bin['bin'])):\n",
    "            splited[((df[col]>=train_bin['lower'][i]) & (df[col]<train_bin['upper'][i])).tolist()]=train_bin['bin'][i]\n",
    "            df_bin[col]=splited.tolist()\n",
    "        crosstable = pd.crosstab(df_bin[col],df_bin[label])\n",
    "        crosstable.columns = ['notCommercial','Commercial']\n",
    "        crosstable['all'] = crosstable['notCommercial']+crosstable['Commercial']\n",
    "        crosstable['percent'] = crosstable['all']/sum(crosstable['all'])\n",
    "        crosstable['c_rate'] = crosstable['Commercial']/crosstable['all']\n",
    "        inter_df = pd.merge(train_bin[['bin','lower','upper']], crosstable, left_on='bin', right_index=True, how='left')\n",
    "        dict_bin[col] = inter_df\n",
    "    return df_bin, dict_bin   \n",
    "def cut_test_bin(df, label, train_dict_bin):\n",
    "    df_bin = df[[label]]\n",
    "    df_feature = df.drop([label],axis=1)\n",
    "    dict_bin = {}\n",
    "    for col in df_feature.columns:\n",
    "        train_bin = train_dict_bin[col]\n",
    "        splited = pd.Series([np.nan]*len(df[col]))\n",
    "        for i in range(len(train_bin['bin'])):\n",
    "            splited[((df[col]>=train_bin['lower'][i]) & (df[col]<train_bin['upper'][i])).tolist()]=train_bin['bin'][i]\n",
    "            df_bin[col]=splited.tolist()\n",
    "        crosstable = pd.crosstab(df_bin[col],df_bin[label])\n",
    "        crosstable.columns = ['notCommercial','Commercial']\n",
    "        crosstable['all'] = crosstable['notCommercial']+crosstable['Commercial']\n",
    "        crosstable['percent'] = crosstable['all']/sum(crosstable['all'])\n",
    "        crosstable['c_rate'] = crosstable['Commercial']/crosstable['all']\n",
    "        inter_df = pd.merge(train_bin[['bin','lower','upper']], crosstable, left_on='bin', right_index=True, how='left')\n",
    "        dict_bin[col] = inter_df\n",
    "    return df_bin, dict_bin   "
   ]
  },
  {
   "cell_type": "code",
   "execution_count": 26,
   "metadata": {},
   "outputs": [],
   "source": [
    "from sklearn.tree import DecisionTreeClassifier\n",
    "train = xtrain.join(ytrain)\n",
    "test  = xtest.join(ytest)\n",
    "new_train, train_dict_bin = cut_bin(train, 'Label', 50, 0.2)\n",
    "new_test , test_dict_bin  = cut_test_bin(test, 'Label', train_dict_bin)\n",
    "\n",
    "xtrain = new_train.drop(['Label'], axis=1)\n",
    "xtest  = new_test.drop(['Label'] , axis=1)\n",
    "ytrain = new_train['Label']\n",
    "ytest  = new_test['Label']"
   ]
  },
  {
   "cell_type": "markdown",
   "metadata": {},
   "source": [
    "## Model Training"
   ]
  },
  {
   "cell_type": "markdown",
   "metadata": {},
   "source": [
    "Training the model based on the data processed with above methods."
   ]
  },
  {
   "cell_type": "markdown",
   "metadata": {},
   "source": [
    "* max_features=16\n",
    "* max_depth=12\n",
    "* n_estimators=2048\n",
    "* n_jobs=-1\n",
    "* random_state=0"
   ]
  },
  {
   "cell_type": "code",
   "execution_count": 27,
   "metadata": {},
   "outputs": [
    {
     "data": {
      "text/plain": [
       "RandomForestClassifier(bootstrap=True, class_weight=None, criterion='gini',\n",
       "            max_depth=12, max_features=16, max_leaf_nodes=None,\n",
       "            min_impurity_decrease=0.0, min_impurity_split=None,\n",
       "            min_samples_leaf=1, min_samples_split=2,\n",
       "            min_weight_fraction_leaf=0.0, n_estimators=2048, n_jobs=-1,\n",
       "            oob_score=False, random_state=0, verbose=0, warm_start=False)"
      ]
     },
     "execution_count": 27,
     "metadata": {},
     "output_type": "execute_result"
    }
   ],
   "source": [
    "# Model training with random forest\n",
    "from sklearn.ensemble import RandomForestClassifier\n",
    "rf = RandomForestClassifier(max_features=16,max_depth=12,n_estimators=2048,n_jobs=-1,random_state=0)\n",
    "rf.fit(xtrain, ytrain)"
   ]
  },
  {
   "cell_type": "markdown",
   "metadata": {},
   "source": [
    "## Evaluation"
   ]
  },
  {
   "cell_type": "code",
   "execution_count": 33,
   "metadata": {},
   "outputs": [
    {
     "name": "stdout",
     "output_type": "stream",
     "text": [
      "Performance on training set:\n",
      "AUC score 0.978660\n",
      "Accuracy score 0.925780\n",
      "Confusion matrix:\n",
      "[[26631  4139]\n",
      " [ 2074 50867]]\n",
      "Performance on test set：\n",
      "AUC score 0.957734\n",
      "Accuracy score 0.896932\n",
      "------------------------------\n",
      "[[ 8355  1918]\n",
      " [  958 16673]]\n",
      "Random result AUC score 0.499193\n",
      "------------------------------\n",
      "[[5140 5133]\n",
      " [8859 8772]]\n"
     ]
    }
   ],
   "source": [
    "from sklearn.metrics import confusion_matrix\n",
    "from sklearn.metrics import roc_auc_score, accuracy_score\n",
    "\n",
    "ytrain_pred_clf = rf.predict_proba(xtrain)\n",
    "ytrain_pred = rf.predict(xtrain)\n",
    "ytest_pred_clf = rf.predict_proba(xtest)\n",
    "ytest_pred = rf.predict(xtest)\n",
    "\n",
    "# Evaluation in training set\n",
    "print ('Performance on training set:')\n",
    "print ('AUC score {:.6f}'.format(roc_auc_score(ytrain, ytrain_pred_clf[:,1])))\n",
    "print ('Accuracy score {:.6f}'.format(accuracy_score(ytrain, ytrain_pred)))\n",
    "print ('Confusion matrix:')\n",
    "threshold = 0.5\n",
    "print (confusion_matrix(ytrain, (ytrain_pred_clf>threshold)[:,1]))\n",
    "\n",
    "# Evaluation in test set\n",
    "print ('Performance on test set：')\n",
    "print ('AUC score {:.6f}'.format(roc_auc_score(ytest, ytest_pred_clf[:,1])))\n",
    "print ('Accuracy score {:.6f}'.format(accuracy_score(ytest, ytest_pred)))\n",
    "print ('------------------------------')\n",
    "threshold = 0.5\n",
    "print (confusion_matrix(ytest, (ytest_pred_clf>threshold)[:,1]))\n",
    "\n",
    "# Compare the result with result generated by random function\n",
    "ytest_random_clf = np.random.uniform(low=0.0, high=1.0, size=len(ytest))\n",
    "print ('Random result AUC score {:.6f}'.format(roc_auc_score(ytest, ytest_random_clf)))\n",
    "print ('------------------------------')\n",
    "print (confusion_matrix(ytest, (ytest_random_clf<=threshold).astype('int')))"
   ]
  },
  {
   "cell_type": "code",
   "execution_count": 32,
   "metadata": {},
   "outputs": [
    {
     "data": {
      "text/plain": [
       "<Figure size 432x288 with 0 Axes>"
      ]
     },
     "metadata": {},
     "output_type": "display_data"
    },
    {
     "data": {
      "image/png": "[encoded data removed]",
      "text/plain": [
       "<Figure size 720x720 with 1 Axes>"
      ]
     },
     "metadata": {
      "needs_background": "light"
     },
     "output_type": "display_data"
    }
   ],
   "source": [
    "from sklearn.metrics import roc_curve, auc\n",
    "fpr,tpr,threshold = roc_curve(ytest,ytest_pred_clf[:,1])\n",
    "roc_auc = auc(fpr,tpr)\n",
    "plt.figure()\n",
    "lw = 2\n",
    "plt.figure(figsize=(10,10))\n",
    "plt.plot(fpr, tpr, color='darkorange',\n",
    "         lw=lw, \n",
    "         label='ROC curve (area = %0.2f)' % roc_auc) \n",
    "plt.plot([0, 1], [0, 1], color='navy', lw=lw, linestyle='--')\n",
    "plt.xlim([0.0, 1.0])\n",
    "plt.ylim([0.0, 1.05])\n",
    "plt.xlabel('False Positive Rate')\n",
    "plt.ylabel('True Positive Rate')\n",
    "plt.title('Receiver operating characteristic curve')\n",
    "plt.legend(loc=\"lower right\")\n",
    "plt.show()"
   ]
  }
 ],
 "metadata": {
  "kernelspec": {
   "display_name": "Python 2",
   "language": "python",
   "name": "python2"
  },
  "language_info": {
   "codemirror_mode": {
    "name": "ipython",
    "version": 2
   },
   "file_extension": ".py",
   "mimetype": "text/x-python",
   "name": "python",
   "nbconvert_exporter": "python",
   "pygments_lexer": "ipython2",
   "version": "2.7.16"
  }
 },
 "nbformat": 4,
 "nbformat_minor": 4
}
